{
  "nbformat": 4,
  "nbformat_minor": 0,
  "metadata": {
    "colab": {
      "provenance": [],
      "collapsed_sections": [
        "AzoerOT6n38n",
        "nRsjA1WdoLxM",
        "G7JdctxeoUKl",
        "pRPT92eIoXfM",
        "rfuVzyU_of_P",
        "lHfDqPv6oor7",
        "mYwM8GIqovXE"
      ]
    },
    "kernelspec": {
      "name": "python3",
      "display_name": "Python 3"
    },
    "language_info": {
      "name": "python"
    }
  },
  "cells": [
    {
      "cell_type": "markdown",
      "source": [
        "# Gerekli Kitaplıkları İçe Aktarma\n",
        "\n"
      ],
      "metadata": {
        "id": "AzoerOT6n38n"
      }
    },
    {
      "cell_type": "markdown",
      "source": [
        "Gerekli kütüphaneleri aktarıyoruz"
      ],
      "metadata": {
        "id": "Vao_sUxZcwEl"
      }
    },
    {
      "cell_type": "code",
      "execution_count": 15,
      "metadata": {
        "id": "CHbPfq9SbkXW"
      },
      "outputs": [],
      "source": [
        "import csv\n",
        "import datetime\n"
      ]
    },
    {
      "cell_type": "markdown",
      "source": [
        "# “Menu.txt” dosyasını oluşturma\n"
      ],
      "metadata": {
        "id": "nRsjA1WdoLxM"
      }
    },
    {
      "cell_type": "code",
      "source": [
        "menu = \"\"\"* Lütfen Bir Pizza Tabanı Seçiniz:\n",
        "1: Klasik\n",
        "2: Margarita\n",
        "3: TürkPizza\n",
        "4: Sade Pizza\n",
        "\n",
        "* Ve seçeceğiniz sos:\n",
        "11: Zeytin\n",
        "12: Mantarlar\n",
        "13: Keçi Peyniri\n",
        "14: Et\n",
        "15: Soğan\n",
        "16: Mısır\n",
        "\n",
        "* Teşekkür ederiz!\n",
        "\"\"\"\n",
        "with open(\"Menu.txt\", \"w\") as file:\n",
        "    file.write(menu)"
      ],
      "metadata": {
        "id": "Xtduhmx4dbOz"
      },
      "execution_count": 16,
      "outputs": []
    },
    {
      "cell_type": "markdown",
      "source": [
        "# Üst sınıf oluşturma “pizza”"
      ],
      "metadata": {
        "id": "G7JdctxeoUKl"
      }
    },
    {
      "cell_type": "markdown",
      "source": [
        "\"Pizza\" adlı bir üst sınıf oluşturacağız. Bu sınıf içinde, her pizza için açıklama ve fiyat gibi sabit özellikleri tutacağız. Bu sınıfın alt sınıfları, farklı pizza türlerini temsil edecek."
      ],
      "metadata": {
        "id": "L2l-zuT2doRV"
      }
    },
    {
      "cell_type": "code",
      "source": [
        "class Pizza:\n",
        "    def __init__(self, description, cost):\n",
        "        self.description = description\n",
        "        self.cost = cost\n",
        "\n",
        "    def get_description(self):\n",
        "        return self.description\n",
        "\n",
        "    def get_cost(self):\n",
        "        return self.cost\n"
      ],
      "metadata": {
        "id": "BwFXFl_kdrjg"
      },
      "execution_count": 17,
      "outputs": []
    },
    {
      "cell_type": "markdown",
      "source": [
        "# Alt sınıf oluşturma “pizza”\n"
      ],
      "metadata": {
        "id": "pRPT92eIoXfM"
      }
    },
    {
      "cell_type": "markdown",
      "source": [
        "\"Pizza\" sınıfından alt sınıflar oluşturacağız. Bu alt sınıflar, farklı pizza türlerini temsil edecek ve her bir pizza türü için açıklama ve fiyat bilgilerini içerecek."
      ],
      "metadata": {
        "id": "oChS5nzqdzYH"
      }
    },
    {
      "cell_type": "code",
      "source": [
        "class MargheritaPizza(Pizza):\n",
        "    def __init__(self):\n",
        "        super().__init__(\"Margherita\", 120.0)\n",
        "\n",
        "class TuscanyPizza(Pizza):\n",
        "    def __init__(self):\n",
        "        super().__init__(\"Tuscany Pizza\", 200.0)\n",
        "\n",
        "class NapoletanaPizza(Pizza):\n",
        "    def __init__(self):\n",
        "        super().__init__(\"Napoletana Pizza\", 160.0)\n",
        "\n",
        "class TurkishPizza(Pizza):\n",
        "    def __init__(self):\n",
        "        super().__init__(\"Turkish Pizza\", 120.0)\n"
      ],
      "metadata": {
        "id": "mxhy4ct9d2Tj"
      },
      "execution_count": 18,
      "outputs": []
    },
    {
      "cell_type": "markdown",
      "source": [
        "# Üst sınıf oluşturma “Decorator”"
      ],
      "metadata": {
        "id": "rfuVzyU_of_P"
      }
    },
    {
      "cell_type": "markdown",
      "source": [
        "Bir Decorator sınıfı oluşturacağız ve bu sınıf, tüm sos sınıflarının süper sınıfı olarak adlandırılacaktır"
      ],
      "metadata": {
        "id": "VBULkQrhe9xO"
      }
    },
    {
      "cell_type": "code",
      "source": [
        "class Decorator(Pizza):\n",
        "    def __init__(self, component):\n",
        "        self.component = component\n",
        "\n",
        "    def get_cost(self):\n",
        "        return self.component.get_cost() + Pizza.get_cost(self)\n",
        "\n",
        "    def get_description(self):\n",
        "        return self.component.get_description() + ' ' + Pizza.get_description(self)\n"
      ],
      "metadata": {
        "id": "sprkDWsNe-b4"
      },
      "execution_count": 19,
      "outputs": []
    },
    {
      "cell_type": "markdown",
      "source": [
        "Burada Decorator sınıfını Pizza sınıfından miras aldık ve init fonksiyonunu tanımladık. Bu fonksiyon, Pizza özelliklerini kullanarak component özniteliğine erişir ve onu self.component olarak ayarlar.\n",
        "\n",
        "get_cost() yöntemi, self.component.get_cost() ve Pizza.get_cost(self) kullanarak bileşenin maliyetini hesaplar.\n",
        "\n",
        "get_description() yöntemi, self.component.get_description() ve Pizza.get_description(self) kullanarak bileşenin açıklamasını alır."
      ],
      "metadata": {
        "id": "a0ByxdfIfBoI"
      }
    },
    {
      "cell_type": "markdown",
      "source": [
        "# Sos sınıflarının Oluşturulması"
      ],
      "metadata": {
        "id": "lHfDqPv6oor7"
      }
    },
    {
      "cell_type": "markdown",
      "source": [
        "Sos olarak Zeytin, Mantar, Keçi Peyniri, Et, Soğan ve Mısır'ı belirleyeceğiz ve belirlediğimiz sosların her birini bir sınıf olarak tanımlayacağız.\n",
        "\n",
        "\n",
        "\n"
      ],
      "metadata": {
        "id": "AUTJC1J0fafJ"
      }
    },
    {
      "cell_type": "code",
      "source": [
        "class Zeytin(Decorator):\n",
        "    def __init__(self, pizza):\n",
        "        Decorator.__init__(self, pizza)\n",
        "        self.description = \"Zeytin\"\n",
        "        self.price = 15.0\n",
        "\n",
        "    def get_description(self):\n",
        "        return self.component.get_description() + ', ' + self.description\n",
        "\n",
        "    def get_cost(self):\n",
        "        return self.component.get_cost() + self.price\n",
        "\n",
        "\n",
        "class Mantarlar(Decorator):\n",
        "    def __init__(self, pizza):\n",
        "        Decorator.__init__(self, pizza)\n",
        "        self.description = \"Mantarlar\"\n",
        "        self.price = 20.0\n",
        "\n",
        "    def get_description(self):\n",
        "        return self.component.get_description() + ', ' + self.description\n",
        "\n",
        "    def get_cost(self):\n",
        "        return self.component.get_cost() + self.price\n",
        "\n",
        "\n",
        "class KeciPeyniri(Decorator):\n",
        "    def __init__(self, pizza):\n",
        "        Decorator.__init__(self, pizza)\n",
        "        self.description = \"Keçi Peyniri\"\n",
        "        self.price = 30.0\n",
        "\n",
        "    def get_description(self):\n",
        "        return self.component.get_description() + ', ' + self.description\n",
        "\n",
        "    def get_cost(self):\n",
        "        return self.component.get_cost() + self.price\n",
        "\n",
        "\n",
        "class Et(Decorator):\n",
        "    def __init__(self, pizza):\n",
        "        Decorator.__init__(self, pizza)\n",
        "        self.description = \"Et\"\n",
        "        self.price = 50.0\n",
        "\n",
        "    def get_description(self):\n",
        "        return self.component.get_description() + ', ' + self.description\n",
        "\n",
        "    def get_cost(self):\n",
        "        return self.component.get_cost() + self.price\n"
      ],
      "metadata": {
        "id": "Y2KapOTRffjT"
      },
      "execution_count": 22,
      "outputs": []
    },
    {
      "cell_type": "markdown",
      "source": [
        "# Pizza Siparişi Almak İçin Ana Fonksiyonu Oluşturma"
      ],
      "metadata": {
        "id": "mYwM8GIqovXE"
      }
    },
    {
      "cell_type": "markdown",
      "source": [
        "Pizza siparişi almak için ana fonksiyonu oluşturuyoruz"
      ],
      "metadata": {
        "id": "N6VzQkrGgD4J"
      }
    },
    {
      "cell_type": "code",
      "source": [
        "def main():\n",
        "    print(\"Pizza Menüsü\")\n",
        "    print(\"1: Margherita\")\n",
        "    print(\"2: Tuscany Pizza\")\n",
        "    print(\"3: Napoletana Pizza\")\n",
        "    print(\"4: Turkish Pizza\")\n",
        "    print(\"Seçimini yapınız (1-4): \")\n",
        "    pizza_choice = int(input())\n",
        "\n",
        "    print(\"Sos Seçiniz\")\n",
        "    print(\"11: Zeytin\")\n",
        "    print(\"12: Mantarlar\")\n",
        "    print(\"13: Keçi Peyniri\")\n",
        "    print(\"14: Et\")\n",
        "    print(\"15: Soğan\")\n",
        "    print(\"16: Mısır\")\n",
        "    print(\"Seçimini yapınız (11-16): \")\n",
        "    topping_choice = int(input())\n",
        "\n",
        "    if pizza_choice == 1:\n",
        "        pizza = MargheritaPizza()\n",
        "    elif pizza_choice == 2:\n",
        "        pizza = TuscanyPizza()\n",
        "    elif pizza_choice == 3:\n",
        "        pizza = NapoletanaPizza()\n",
        "    elif pizza_choice == 4:\n",
        "        pizza = TurkishPizza()\n",
        "\n",
        "    if topping_choice == 11:\n",
        "        pizza = Zeytin(pizza)\n",
        "    elif topping_choice == 12:\n",
        "        pizza = Mantar(pizza)\n",
        "    elif topping_choice == 13:\n",
        "        pizza = KeciPeyniri(pizza)\n",
        "    elif topping_choice == 14:\n",
        "        pizza = Et(pizza)\n",
        "    elif topping_choice == 15:\n",
        "        pizza = Sogan(pizza)\n",
        "    elif topping_choice == 16:\n",
        "        pizza = Misir(pizza)\n",
        "\n",
        "    print(\"Toplam tutar: \", pizza.get_cost())\n",
        "\n",
        "    name = input(\"Adınızı girin: \")\n",
        "    tc = input(\"TC kimlik numaranızı girin: \")\n",
        "    credit_card_number = input(\"Kredi kartı numaranızı girin: \")\n",
        "    cvv = input(\"Kredi kartı CVV kodunu girin: \")\n",
        "\n",
        "    now = datetime.datetime.now()\n",
        "    timestamp = now.strftime(\"%Y-%m-%d %H:%M:%S\")\n",
        "\n",
        "    with open(\"Orders_Database.csv\", mode='a', newline='') as order_file:\n",
        "        order_writer = csv.writer(order_file, delimiter=',', quotechar='\"', quoting=csv.QUOTE_MINIMAL)\n",
        "        order_writer.writerow([name, tc, credit_card_number, cvv, pizza.get_description(), timestamp])\n",
        "\n",
        "    print(\"Siparişiniz alındı, teşekkürler!\")\n"
      ],
      "metadata": {
        "id": "UZCj4qvpgLyJ"
      },
      "execution_count": 21,
      "outputs": []
    }
  ]
}