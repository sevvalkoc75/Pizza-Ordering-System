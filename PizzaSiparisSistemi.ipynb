{
  "nbformat": 4,
  "nbformat_minor": 0,
  "metadata": {
    "colab": {
      "provenance": []
    },
    "kernelspec": {
      "name": "python3",
      "display_name": "Python 3"
    },
    "language_info": {
      "name": "python"
    }
  },
  "cells": [
    {
      "cell_type": "markdown",
      "source": [
        "# Gerekli Kitaplıkları İçe Aktarma"
      ],
      "metadata": {
        "id": "VUln3nFQAgD8"
      }
    },
    {
      "cell_type": "code",
      "source": [
        "import csv\n",
        "import datetime"
      ],
      "metadata": {
        "id": "Y5-55qo6CF-f"
      },
      "execution_count": 7,
      "outputs": []
    },
    {
      "cell_type": "markdown",
      "source": [
        "# “Menu.txt” dosyasını oluşturma"
      ],
      "metadata": {
        "id": "JN5NlIjJAob8"
      }
    },
    {
      "cell_type": "code",
      "source": [
        "with open(\"Menu.txt\", \"w\") as menu:\n",
        "    menu.write(\"\"\"* Lütfen Pizzanızı Seçiniz:\n",
        "1: Marherita Pizza --> 100₺\n",
        "2: Tuscany Pizza -----> 105₺\n",
        "3: Napolitana Pizza ----> 90₺\n",
        "4: Turkish Pizza ----> 110₺\n",
        "5: Basic Pizza-> 90₺\n",
        "6: Vegan Pizza --> 45₺\n",
        "* Seçmek İstediğiniz Ekstra Malzemeler:\n",
        "11: Zeytin --> 1.25₺\n",
        "12: Mantar --> 2.35₺\n",
        "13: Peynir --> 3.50₺\n",
        "14: Et ------> 7.50₺\n",
        "15: Soğan ---> 3.75₺\n",
        "16: Mısır ---> 1.75₺\n",
        "17: Pastırma-> 8.75₺\n",
        "18: Sucuk ---> 5.75₺\n",
        "19: Jambon --> 4.25₺\n",
        "20: Kekik ---> 0.50₺\n",
        "* Seçiminiz İçin Teşekkür Ederiz!\\n\"\"\")\n",
        "    "
      ],
      "metadata": {
        "id": "VhvtV5AMAtxF"
      },
      "execution_count": 8,
      "outputs": []
    },
    {
      "cell_type": "markdown",
      "source": [
        "Menü seçenekleri için döngü oluşturuyoruz"
      ],
      "metadata": {
        "id": "Mk5LV0zhCLMz"
      }
    },
    {
      "cell_type": "code",
      "source": [
        "with open(\"Menu.txt\") as menu:\n",
        "    menu_dict = {}\n",
        "    for line in menu:\n",
        "        if \"*\" in line:\n",
        "            continue\n",
        "        (key, val) = line.split(\": \")\n",
        "        val = val[:-1]\n",
        "        menu_dict[int(key)] = val"
      ],
      "metadata": {
        "id": "nCSTwYPzA0c8"
      },
      "execution_count": 9,
      "outputs": []
    },
    {
      "cell_type": "markdown",
      "source": [
        "# Üst sınıf oluşturma “pizza”"
      ],
      "metadata": {
        "id": "iM8EJF8lA4wd"
      }
    },
    {
      "cell_type": "markdown",
      "source": [
        "\"Pizza\" adlı bir üst sınıf oluşturacağız. Bu sınıf içinde, her pizza için açıklama ve fiyat gibi sabit özellikleri tutacağız. Bu sınıfın alt sınıfları, farklı pizza türlerini temsil edecek."
      ],
      "metadata": {
        "id": "O94hXwzEA6i5"
      }
    },
    {
      "cell_type": "code",
      "source": [
        "class Pizza:\n",
        "    def get_description(self): # pizza açıklaması için get metodu\n",
        "        return self.__class__.__name__\n",
        "\n",
        "    def get_cost(self): # fiyat bilgisi için yine get metodunu tanımladık\n",
        "        return self.__class__.cost"
      ],
      "metadata": {
        "id": "KTjlsT9yA8Ix"
      },
      "execution_count": 10,
      "outputs": []
    },
    {
      "cell_type": "markdown",
      "source": [
        "# Alt sınıf oluşturma “pizza”"
      ],
      "metadata": {
        "id": "ndAeu67NBAW2"
      }
    },
    {
      "cell_type": "markdown",
      "source": [
        "\"Pizza\" sınıfından alt sınıflar oluşturacağız. Bu alt sınıflar, farklı pizza türlerini temsil edecek ve her bir pizza türü için açıklama ve fiyat bilgilerini içerecek."
      ],
      "metadata": {
        "id": "OuSfLk9fBB5G"
      }
    },
    {
      "cell_type": "code",
      "source": [
        "class MargheritaPizza(Pizza):\n",
        "    cost = 100.0\n",
        "\n",
        "    def __init__(self):\n",
        "        # Bu kısımda pizza türlerinde ki malzemeleri ekrana yazdırmak istedim.\n",
        "        self.description = \"Standart Malzemeler: Domates sosu, Mozzarella ve Fesleğen\"\n",
        "        print(self.description +\"\\n\")\n",
        "\n",
        "class TuscanyPizza(Pizza):\n",
        "    cost = 105.0\n",
        "\n",
        "    def __init__(self):\n",
        "        self.description = \"Standart Malzemeler: Domates sosu, Kırmızı biber, Mantar, Mısır, Zeytin, Soğan, Kırmızı jalapen ve Mozzarella\"\n",
        "        print(self.description +\"\\n\")\n",
        "\n",
        "class NapolitanaPizza(Pizza):\n",
        "    cost = 90.0\n",
        "\n",
        "    def __init__(self):\n",
        "        self.description = \"Standart Malzemeler: Domates sosu, Mozzarella, Fesleğen\"\n",
        "        print(self.description +\"\\n\")\n",
        "\n",
        "class TurkishPizza(Pizza):\n",
        "    cost = 90.0\n",
        "\n",
        "    def __init__(self):\n",
        "        self.description = \"Standart Malzemeler: Domates sosu, Peynir, Sucuk, Pastırma, Biber ve Zeytin\"\n",
        "        print(self.description +\"\\n\")\n",
        "\n",
        "class BasicPizza(Pizza):\n",
        "    cost = 90.0\n",
        "\n",
        "    def __init__(self):\n",
        "        self.description = \"Standart Malzemeler: Domates sosu, Peynir ve Sucuk\"\n",
        "        print(self.description +\"\\n\")\n",
        "\n",
        "class VeganPizza(Pizza):\n",
        "    cost = 45.0\n",
        "\n",
        "    def __init__(self):\n",
        "        self.description = \"Standart Malzemeler: Domates sosu, Vegan peynir, Mantar, Mısır ve Zeytin\"\n",
        "        print(self.description +\"\\n\")"
      ],
      "metadata": {
        "id": "wLfkGak5BEIC"
      },
      "execution_count": 11,
      "outputs": []
    },
    {
      "cell_type": "markdown",
      "source": [
        "# Üst sınıf oluşturma “Decorator”"
      ],
      "metadata": {
        "id": "GDWZJjWXBPhf"
      }
    },
    {
      "cell_type": "markdown",
      "source": [
        "Bir Decorator sınıfı oluşturacağız ve bu sınıf, tüm sos sınıflarının süper sınıfı olarak adlandırılacaktır"
      ],
      "metadata": {
        "id": "4dkBN6deBThv"
      }
    },
    {
      "cell_type": "code",
      "source": [
        "class Decorator(Pizza):\n",
        "    def __init__(self, topping):\n",
        "        self.component = topping\n",
        "\n",
        "    def get_cost(self):\n",
        "        return self.component.get_cost() + \\\n",
        "          Pizza.get_cost(self)\n",
        "\n",
        "    def get_description(self):\n",
        "        return self.component.get_description() + \\\n",
        "          ' : ' + Pizza.get_description(self)"
      ],
      "metadata": {
        "id": "4PZljB0wBUMm"
      },
      "execution_count": 12,
      "outputs": []
    },
    {
      "cell_type": "markdown",
      "source": [
        "Burada Decorator sınıfını Pizza sınıfından miras aldık ve init fonksiyonunu tanımladık. Bu fonksiyon, Pizza özelliklerini kullanarak component özniteliğine erişir ve onu self.component olarak ayarlar.\n",
        "\n",
        "get_cost() yöntemi, self.component.get_cost() ve Pizza.get_cost(self) kullanarak bileşenin maliyetini hesaplar.\n",
        "\n",
        "get_description() yöntemi, self.component.get_description() ve Pizza.get_description(self) kullanarak bileşenin açıklamasını alır."
      ],
      "metadata": {
        "id": "zqfwzWXvBeqK"
      }
    },
    {
      "cell_type": "markdown",
      "source": [
        "# Sos sınıflarının Oluşturulması"
      ],
      "metadata": {
        "id": "_PxWu6pIBlO5"
      }
    },
    {
      "cell_type": "code",
      "source": [
        "class Zeytin(Decorator):\n",
        "    cost = 1.25\n",
        "\n",
        "    def __init__(self, topping):\n",
        "        Decorator.__init__(self, topping)\n",
        "\n",
        "\n",
        "class Mantar(Decorator):\n",
        "    cost = 2.35\n",
        "\n",
        "    def __init__(self, topping):\n",
        "        Decorator.__init__(self, topping)\n",
        "\n",
        "\n",
        "class Peynir(Decorator):\n",
        "    cost = 3.50\n",
        "\n",
        "    def __init__(self, topping):\n",
        "        Decorator.__init__(self, topping)\n",
        "\n",
        "\n",
        "class Et(Decorator):\n",
        "    cost = 7.50\n",
        "\n",
        "    def __init__(self, topping):\n",
        "        Decorator.__init__(self, topping)\n",
        "\n",
        "\n",
        "class Sogan(Decorator):\n",
        "    cost = 3.75\n",
        "\n",
        "    def __init__(self, topping):\n",
        "        Decorator.__init__(self, topping)\n",
        "\n",
        "\n",
        "class Misir(Decorator):\n",
        "    cost = 1.75\n",
        "\n",
        "    def __init__(self, topping):\n",
        "        Decorator.__init__(self, topping)\n",
        "\n",
        "class Pastirma(Decorator):\n",
        "    cost = 8.75\n",
        "\n",
        "    def __init__(self, topping):\n",
        "        Decorator.__init__(self, topping)\n",
        "\n",
        "class Sucuk(Decorator):\n",
        "    cost = 5.75\n",
        "\n",
        "    def __init__(self, topping):\n",
        "        Decorator.__init__(self, topping)\n",
        "\n",
        "class Jambon(Decorator):\n",
        "    cost = 4.25\n",
        "\n",
        "    def __init__(self, topping):\n",
        "        Decorator.__init__(self, topping)\n",
        "\n",
        "class Kekik(Decorator):\n",
        "    cost = 0.50\n",
        "\n",
        "    def __init__(self, topping):\n",
        "        Decorator.__init__(self, topping)"
      ],
      "metadata": {
        "id": "dZK9_yl7Bp1e"
      },
      "execution_count": 13,
      "outputs": []
    },
    {
      "cell_type": "markdown",
      "source": [
        "# Pizza Siparişi Almak İçin Ana Fonksiyonu Oluşturma"
      ],
      "metadata": {
        "id": "WiHo4U_xBuzT"
      }
    },
    {
      "cell_type": "code",
      "source": [
        "def main():\n",
        "    with open(\"Menu.txt\") as cust_menu:\n",
        "        for l in cust_menu:\n",
        "            print(l, end=\"\")\n",
        "\n",
        "    class_dict = {1: MargheritaPizza, \n",
        "                  2: TuscanyPizza,\n",
        "                  3: NapolitanaPizza, \n",
        "                  4: TurkishPizza, \n",
        "                  5: BasicPizza,\n",
        "                  6: VeganPizza,\n",
        "                  11: Zeytin, \n",
        "                  12: Mantar, \n",
        "                  13: Peynir, \n",
        "                  14: Et, \n",
        "                  15: Sogan, \n",
        "                  16: Misir,\n",
        "                  17: Pastirma,\n",
        "                  18: Sucuk,\n",
        "                  19: Jambon,\n",
        "                  20: Kekik}\n",
        "\n",
        "    code = input(\"Lütfen Pizzanızı Seçiniz: \")\n",
        "    while code not in [\"1\", \"2\", \"3\", \"4\", \"5\", \"6\"]:\n",
        "        code = input(\"Hatalı Seçim Yaptınız: \")\n",
        "\n",
        "    order = class_dict[int(code)]()\n",
        "\n",
        "    while code != \"0\":\n",
        "        code = input(\"Ekstra Malzeme İçin Malzeme Numarasını Seçiniz (Siparişinizi Onaylamak İçin '0' tuşuna basınız): \")\n",
        "        if code in [\"11\", \"12\", \"13\", \"14\", \"15\", \"16\", \"17\", \"18\", \"19\", \"20\"]:\n",
        "            order = class_dict[int(code)](order)\n",
        "\n",
        "    print(\"\\n\"+order.get_description().strip() +\n",
        "          \": ₺\" + str(order.get_cost()))\n",
        "    print(\"\\n\")\n",
        "\n",
        "    print(\"----------Sipariş Bilgileri----------\\n\")\n",
        "    name = input(\"Adınız: \")\n",
        "    ID = input(\"Kimlik Numaranız: \")\n",
        "    credit_card = input(\"Kredi Kartı Numaranızı Giriniz: \")\n",
        "    credit_pass = input(\"Kredi Kartı Şifresi: \")\n",
        "    time_of_order = datetime.datetime.now()\n",
        "\n",
        "    with open('Orders_Database.csv', 'a') as orders:\n",
        "        orders = csv.writer(orders, delimiter=',')\n",
        "        orders.writerow([name, ID, credit_card, credit_pass, order.get_description(), time_of_order])\n",
        "    print(\"Sipariş Onaylandı.\")\n",
        "\n",
        "if __name__ == '__main__':\n",
        "    main()"
      ],
      "metadata": {
        "colab": {
          "base_uri": "https://localhost:8080/"
        },
        "id": "ZaCerfOrByL5",
        "outputId": "05e41451-13c7-429c-b578-402a208e276b"
      },
      "execution_count": 14,
      "outputs": [
        {
          "output_type": "stream",
          "name": "stdout",
          "text": [
            "* Lütfen Pizzanızı Seçiniz:\n",
            "1: Marherita Pizza --> 100₺\n",
            "2: Tuscany Pizza -----> 105₺\n",
            "3: Napolitana Pizza ----> 90₺\n",
            "4: Turkish Pizza ----> 110₺\n",
            "5: Basic Pizza-> 90₺\n",
            "6: Vegan Pizza --> 45₺\n",
            "* Seçmek İstediğiniz Ekstra Malzemeler:\n",
            "11: Zeytin --> 1.25₺\n",
            "12: Mantar --> 2.35₺\n",
            "13: Peynir --> 3.50₺\n",
            "14: Et ------> 7.50₺\n",
            "15: Soğan ---> 3.75₺\n",
            "16: Mısır ---> 1.75₺\n",
            "17: Pastırma-> 8.75₺\n",
            "18: Sucuk ---> 5.75₺\n",
            "19: Jambon --> 4.25₺\n",
            "20: Kekik ---> 0.50₺\n",
            "* Seçiminiz İçin Teşekkür Ederiz!\n",
            "Lütfen Pizzanızı Seçiniz: 1\n",
            "Standart Malzemeler: Domates sosu, Mozzarella ve Fesleğen\n",
            "\n",
            "Ekstra Malzeme İçin Malzeme Numarasını Seçiniz (Siparişinizi Onaylamak İçin '0' tuşuna basınız): 0\n",
            "\n",
            "MargheritaPizza: ₺100.0\n",
            "\n",
            "\n",
            "----------Sipariş Bilgileri----------\n",
            "\n",
            "Adınız: Şevval\n",
            "Kimlik Numaranız: Koç\n",
            "Kredi Kartı Numaranızı Giriniz: 234-23-432-43-\n",
            "Kredi Kartı Şifresi: 1234\n",
            "Sipariş Onaylandı.\n"
          ]
        }
      ]
    }
  ]
}